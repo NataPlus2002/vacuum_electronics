{
 "cells": [
  {
   "cell_type": "code",
   "execution_count": 1,
   "id": "f894c635",
   "metadata": {},
   "outputs": [],
   "source": [
    "import pandas as pd\n",
    "from matplotlib import pyplot as plt\n",
    "import numpy as np\n",
    "# plt.rc(usetex = True)\n",
    "def poly_plot2(x_data,y_data,x0,x1,ax,c='b',deg=1):\n",
    "    try:\n",
    "        res=np.polyfit(x_data,y_data,deg=deg,cov=True)\n",
    "    except:\n",
    "        res=np.polyfit(x_data,y_data,deg=deg,cov=True)\n",
    "    coeff=res[0]\n",
    "    k_err=[]\n",
    "    i2=0;\n",
    "    for i in res[1]:\n",
    "        k_err.append(np.sqrt(i[i2]))\n",
    "        i2+=1\n",
    "    \n",
    "\n",
    "    \n",
    "    y=[]\n",
    "    x_arr=np.linspace(x0,x1,1000)\n",
    "    n=len(coeff)-1\n",
    "    for x in x_arr:\n",
    "        y_buff=0;\n",
    "        n_buff=n;\n",
    "        for i in coeff:\n",
    "            y_buff+=i*x**n_buff\n",
    "            n_buff-=1\n",
    "        y.append(y_buff)\n",
    "    s='y='\n",
    "    n=deg\n",
    "    for k in coeff:\n",
    "        s+='('+format(k,'.2e')+')'+f'$x^{n}$+'\n",
    "        n-=1\n",
    "        \n",
    "    ax.plot(x_arr,y,c=c,label=s[:-1])\n",
    "    return coeff,k_err\n",
    "\n",
    "def poly_plot3(ax,data,x,y,c='b',limits=(0,0),deg=1):\n",
    "    if limits==(0,0):\n",
    "        coeffs=poly_plot2(data[x].array,data[y].array,data[x].min(),data[x].max(),ax,c,deg=deg)\n",
    "    else:\n",
    "        coeffs=poly_plot2(data[x].array,data[y].array,limits[0],limits[1],ax,c,deg=deg)\n",
    "    return coeffs"
   ]
  },
  {
   "cell_type": "code",
   "execution_count": 2,
   "id": "0e876138",
   "metadata": {},
   "outputs": [
    {
     "data": {
      "text/html": [
       "<div>\n",
       "<style scoped>\n",
       "    .dataframe tbody tr th:only-of-type {\n",
       "        vertical-align: middle;\n",
       "    }\n",
       "\n",
       "    .dataframe tbody tr th {\n",
       "        vertical-align: top;\n",
       "    }\n",
       "\n",
       "    .dataframe thead th {\n",
       "        text-align: right;\n",
       "    }\n",
       "</style>\n",
       "<table border=\"1\" class=\"dataframe\">\n",
       "  <thead>\n",
       "    <tr style=\"text-align: right;\">\n",
       "      <th></th>\n",
       "      <th>U</th>\n",
       "      <th>I</th>\n",
       "    </tr>\n",
       "  </thead>\n",
       "  <tbody>\n",
       "    <tr>\n",
       "      <th>0</th>\n",
       "      <td>0</td>\n",
       "      <td>-7501.66</td>\n",
       "    </tr>\n",
       "    <tr>\n",
       "      <th>1</th>\n",
       "      <td>1</td>\n",
       "      <td>58447.42</td>\n",
       "    </tr>\n",
       "    <tr>\n",
       "      <th>2</th>\n",
       "      <td>2</td>\n",
       "      <td>112810.76</td>\n",
       "    </tr>\n",
       "    <tr>\n",
       "      <th>3</th>\n",
       "      <td>5</td>\n",
       "      <td>271681.49</td>\n",
       "    </tr>\n",
       "    <tr>\n",
       "      <th>4</th>\n",
       "      <td>10</td>\n",
       "      <td>461188.89</td>\n",
       "    </tr>\n",
       "  </tbody>\n",
       "</table>\n",
       "</div>"
      ],
      "text/plain": [
       "    U          I\n",
       "0   0   -7501.66\n",
       "1   1   58447.42\n",
       "2   2  112810.76\n",
       "3   5  271681.49\n",
       "4  10  461188.89"
      ]
     },
     "execution_count": 2,
     "metadata": {},
     "output_type": "execute_result"
    }
   ],
   "source": [
    "data=pd.read_csv(\"table1.csv\")\n",
    "\n",
    "data.head()"
   ]
  },
  {
   "cell_type": "code",
   "execution_count": 17,
   "id": "b08cb16a",
   "metadata": {},
   "outputs": [
    {
     "data": {
      "image/png": "[encoded data removed]",
      "text/plain": [
       "<Figure size 864x432 with 1 Axes>"
      ]
     },
     "metadata": {
      "needs_background": "light"
     },
     "output_type": "display_data"
    }
   ],
   "source": [
    "fig,ax=plt.subplots(figsize=(12,6))\n",
    "data.plot(ax=ax,kind=\"scatter\",x=\"U\",y=\"I\",s=100,marker='+',c='r')\n",
    "plt.grid()\n",
    "plt.xlabel(\"мкВ\",size=12)\n",
    "plt.ylabel(\"ед. ЦАП\",size=12)\n",
    "plt.title(\"Вольт-амперная характеристика\",size=12)\n",
    "ax.minorticks_on()\n",
    "fig.savefig(\"graph1.pdf\")"
   ]
  },
  {
   "cell_type": "code",
   "execution_count": 4,
   "id": "9f052695",
   "metadata": {},
   "outputs": [
    {
     "data": {
      "text/html": [
       "<div>\n",
       "<style scoped>\n",
       "    .dataframe tbody tr th:only-of-type {\n",
       "        vertical-align: middle;\n",
       "    }\n",
       "\n",
       "    .dataframe tbody tr th {\n",
       "        vertical-align: top;\n",
       "    }\n",
       "\n",
       "    .dataframe thead th {\n",
       "        text-align: right;\n",
       "    }\n",
       "</style>\n",
       "<table border=\"1\" class=\"dataframe\">\n",
       "  <thead>\n",
       "    <tr style=\"text-align: right;\">\n",
       "      <th></th>\n",
       "      <th>nu</th>\n",
       "      <th>out</th>\n",
       "      <th>inp</th>\n",
       "    </tr>\n",
       "  </thead>\n",
       "  <tbody>\n",
       "    <tr>\n",
       "      <th>0</th>\n",
       "      <td>0.1</td>\n",
       "      <td>108950</td>\n",
       "      <td>100395</td>\n",
       "    </tr>\n",
       "    <tr>\n",
       "      <th>1</th>\n",
       "      <td>0.2</td>\n",
       "      <td>111048</td>\n",
       "      <td>99910</td>\n",
       "    </tr>\n",
       "    <tr>\n",
       "      <th>2</th>\n",
       "      <td>0.5</td>\n",
       "      <td>105237</td>\n",
       "      <td>99104</td>\n",
       "    </tr>\n",
       "    <tr>\n",
       "      <th>3</th>\n",
       "      <td>1.0</td>\n",
       "      <td>91679</td>\n",
       "      <td>99103</td>\n",
       "    </tr>\n",
       "    <tr>\n",
       "      <th>4</th>\n",
       "      <td>2.0</td>\n",
       "      <td>75538</td>\n",
       "      <td>99327</td>\n",
       "    </tr>\n",
       "  </tbody>\n",
       "</table>\n",
       "</div>"
      ],
      "text/plain": [
       "    nu     out     inp\n",
       "0  0.1  108950  100395\n",
       "1  0.2  111048   99910\n",
       "2  0.5  105237   99104\n",
       "3  1.0   91679   99103\n",
       "4  2.0   75538   99327"
      ]
     },
     "execution_count": 4,
     "metadata": {},
     "output_type": "execute_result"
    }
   ],
   "source": [
    "data2=pd.read_csv(\"table3.csv\")\n",
    "data2.head()"
   ]
  },
  {
   "cell_type": "code",
   "execution_count": 12,
   "id": "0640bf97",
   "metadata": {},
   "outputs": [
    {
     "data": {
      "text/html": [
       "<div>\n",
       "<style scoped>\n",
       "    .dataframe tbody tr th:only-of-type {\n",
       "        vertical-align: middle;\n",
       "    }\n",
       "\n",
       "    .dataframe tbody tr th {\n",
       "        vertical-align: top;\n",
       "    }\n",
       "\n",
       "    .dataframe thead th {\n",
       "        text-align: right;\n",
       "    }\n",
       "</style>\n",
       "<table border=\"1\" class=\"dataframe\">\n",
       "  <thead>\n",
       "    <tr style=\"text-align: right;\">\n",
       "      <th></th>\n",
       "      <th>nu</th>\n",
       "      <th>out</th>\n",
       "      <th>inp</th>\n",
       "      <th>out/inp</th>\n",
       "      <th>ln_ratio</th>\n",
       "      <th>ln_nu</th>\n",
       "    </tr>\n",
       "  </thead>\n",
       "  <tbody>\n",
       "    <tr>\n",
       "      <th>0</th>\n",
       "      <td>0.1</td>\n",
       "      <td>108950</td>\n",
       "      <td>100395</td>\n",
       "      <td>1.085213</td>\n",
       "      <td>0.081777</td>\n",
       "      <td>-2.302585</td>\n",
       "    </tr>\n",
       "    <tr>\n",
       "      <th>1</th>\n",
       "      <td>0.2</td>\n",
       "      <td>111048</td>\n",
       "      <td>99910</td>\n",
       "      <td>1.111480</td>\n",
       "      <td>0.105693</td>\n",
       "      <td>-1.609438</td>\n",
       "    </tr>\n",
       "    <tr>\n",
       "      <th>2</th>\n",
       "      <td>0.5</td>\n",
       "      <td>105237</td>\n",
       "      <td>99104</td>\n",
       "      <td>1.061884</td>\n",
       "      <td>0.060045</td>\n",
       "      <td>-0.693147</td>\n",
       "    </tr>\n",
       "    <tr>\n",
       "      <th>3</th>\n",
       "      <td>1.0</td>\n",
       "      <td>91679</td>\n",
       "      <td>99103</td>\n",
       "      <td>0.925088</td>\n",
       "      <td>-0.077866</td>\n",
       "      <td>0.000000</td>\n",
       "    </tr>\n",
       "    <tr>\n",
       "      <th>4</th>\n",
       "      <td>2.0</td>\n",
       "      <td>75538</td>\n",
       "      <td>99327</td>\n",
       "      <td>0.760498</td>\n",
       "      <td>-0.273782</td>\n",
       "      <td>0.693147</td>\n",
       "    </tr>\n",
       "  </tbody>\n",
       "</table>\n",
       "</div>"
      ],
      "text/plain": [
       "    nu     out     inp   out/inp  ln_ratio     ln_nu\n",
       "0  0.1  108950  100395  1.085213  0.081777 -2.302585\n",
       "1  0.2  111048   99910  1.111480  0.105693 -1.609438\n",
       "2  0.5  105237   99104  1.061884  0.060045 -0.693147\n",
       "3  1.0   91679   99103  0.925088 -0.077866  0.000000\n",
       "4  2.0   75538   99327  0.760498 -0.273782  0.693147"
      ]
     },
     "execution_count": 12,
     "metadata": {},
     "output_type": "execute_result"
    }
   ],
   "source": [
    "data2[\"out/inp\"]=data2.out/data2.inp\n",
    "data2.head()"
   ]
  },
  {
   "cell_type": "code",
   "execution_count": 13,
   "id": "c2692e7a",
   "metadata": {},
   "outputs": [
    {
     "data": {
      "text/html": [
       "<div>\n",
       "<style scoped>\n",
       "    .dataframe tbody tr th:only-of-type {\n",
       "        vertical-align: middle;\n",
       "    }\n",
       "\n",
       "    .dataframe tbody tr th {\n",
       "        vertical-align: top;\n",
       "    }\n",
       "\n",
       "    .dataframe thead th {\n",
       "        text-align: right;\n",
       "    }\n",
       "</style>\n",
       "<table border=\"1\" class=\"dataframe\">\n",
       "  <thead>\n",
       "    <tr style=\"text-align: right;\">\n",
       "      <th></th>\n",
       "      <th>nu</th>\n",
       "      <th>out</th>\n",
       "      <th>inp</th>\n",
       "      <th>out/inp</th>\n",
       "      <th>ln_ratio</th>\n",
       "      <th>ln_nu</th>\n",
       "    </tr>\n",
       "  </thead>\n",
       "  <tbody>\n",
       "    <tr>\n",
       "      <th>0</th>\n",
       "      <td>0.1</td>\n",
       "      <td>108950</td>\n",
       "      <td>100395</td>\n",
       "      <td>1.085213</td>\n",
       "      <td>0.081777</td>\n",
       "      <td>-2.302585</td>\n",
       "    </tr>\n",
       "    <tr>\n",
       "      <th>1</th>\n",
       "      <td>0.2</td>\n",
       "      <td>111048</td>\n",
       "      <td>99910</td>\n",
       "      <td>1.111480</td>\n",
       "      <td>0.105693</td>\n",
       "      <td>-1.609438</td>\n",
       "    </tr>\n",
       "    <tr>\n",
       "      <th>2</th>\n",
       "      <td>0.5</td>\n",
       "      <td>105237</td>\n",
       "      <td>99104</td>\n",
       "      <td>1.061884</td>\n",
       "      <td>0.060045</td>\n",
       "      <td>-0.693147</td>\n",
       "    </tr>\n",
       "    <tr>\n",
       "      <th>3</th>\n",
       "      <td>1.0</td>\n",
       "      <td>91679</td>\n",
       "      <td>99103</td>\n",
       "      <td>0.925088</td>\n",
       "      <td>-0.077866</td>\n",
       "      <td>0.000000</td>\n",
       "    </tr>\n",
       "    <tr>\n",
       "      <th>4</th>\n",
       "      <td>2.0</td>\n",
       "      <td>75538</td>\n",
       "      <td>99327</td>\n",
       "      <td>0.760498</td>\n",
       "      <td>-0.273782</td>\n",
       "      <td>0.693147</td>\n",
       "    </tr>\n",
       "  </tbody>\n",
       "</table>\n",
       "</div>"
      ],
      "text/plain": [
       "    nu     out     inp   out/inp  ln_ratio     ln_nu\n",
       "0  0.1  108950  100395  1.085213  0.081777 -2.302585\n",
       "1  0.2  111048   99910  1.111480  0.105693 -1.609438\n",
       "2  0.5  105237   99104  1.061884  0.060045 -0.693147\n",
       "3  1.0   91679   99103  0.925088 -0.077866  0.000000\n",
       "4  2.0   75538   99327  0.760498 -0.273782  0.693147"
      ]
     },
     "execution_count": 13,
     "metadata": {},
     "output_type": "execute_result"
    }
   ],
   "source": [
    "data2[\"ln_ratio\"]=np.log(data2[\"out/inp\"])\n",
    "data2[\"ln_nu\"]=np.log(data2.nu)\n",
    "data2.head()"
   ]
  },
  {
   "cell_type": "code",
   "execution_count": 25,
   "id": "df022f57",
   "metadata": {},
   "outputs": [
    {
     "data": {
      "image/png": "[encoded data removed]",
      "text/plain": [
       "<Figure size 864x432 with 1 Axes>"
      ]
     },
     "metadata": {
      "needs_background": "light"
     },
     "output_type": "display_data"
    }
   ],
   "source": [
    "fig,ax=plt.subplots(figsize=(12,6))\n",
    "data2.plot(ax=ax,kind=\"scatter\",x=\"ln_nu\",y=\"ln_ratio\",s=100,marker='+',c='r')\n",
    "plt.grid()\n",
    "plt.ylabel(r\"$ln(\\frac{Out}{In})$\",size=15)\n",
    "plt.xlabel(r\"$ln(\\nu[Гц])$\",size=15)\n",
    "plt.title(\"Амплитудно-частотная характеристика\",size=15)\n",
    "fig.savefig(\"graph2.pdf\")"
   ]
  },
  {
   "cell_type": "code",
   "execution_count": null,
   "id": "2ba1f8a8",
   "metadata": {
    "collapsed": true
   },
   "outputs": [],
   "source": []
  }
 ],
 "metadata": {
  "kernelspec": {
   "display_name": "Python 3 (ipykernel)",
   "language": "python",
   "name": "python3"
  },
  "language_info": {
   "codemirror_mode": {
    "name": "ipython",
    "version": 3
   },
   "file_extension": ".py",
   "mimetype": "text/x-python",
   "name": "python",
   "nbconvert_exporter": "python",
   "pygments_lexer": "ipython3",
   "version": "3.9.6"
  }
 },
 "nbformat": 4,
 "nbformat_minor": 5
}
